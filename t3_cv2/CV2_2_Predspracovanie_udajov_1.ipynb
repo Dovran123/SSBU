{
 "cells": [
  {
   "cell_type": "markdown",
   "id": "8c1c658d-7148-4bb8-ad50-6ebd25ee317f",
   "metadata": {},
   "source": [
    "# (Pred)spracovanie a analýza údajov\n",
    "\n",
    "## Rozumieť údajom\n",
    "\n",
    "- predpracovanie je jedna z najdôležitejších častí\n",
    "\n",
    "- iba keď máte o vašich dátach predstavu, budete ich vedieť správne spracovať a vyhodnotiť \n",
    "\n",
    "### 6 fáz:\n",
    "\n",
    "- Objavovanie (explore)\n",
    "- Očistenie (clean)\n",
    "- Úpravy (mutate)\n",
    "- Popis (describe)\n",
    "- Vizualizácia (vizualize)\n",
    "- Analýza (analyze)"
   ]
  },
  {
   "cell_type": "code",
   "execution_count": null,
   "id": "9dea044b-653c-46ef-b6ce-86f6dd8b25be",
   "metadata": {},
   "outputs": [],
   "source": [
    "# R\n",
    "# install and load necessary libraries\n",
    "\n",
    "install.packages(\"tidyverse\")\n",
    "install.packages(\"ggplot2\")\n",
    "install.packages(\"data.table\")\n",
    "install.packages(\"corrplot\")\n",
    "\n",
    "library(tidyverse)"
   ]
  },
  {
   "cell_type": "markdown",
   "id": "39234daa-57c5-460e-9b6f-8d9d688157ea",
   "metadata": {},
   "source": [
    "## Objavovanie (explore)\n",
    "\n",
    "Budeme používať dataset U.S. Chronic Disease Indicators (CDI), dostupný na:\n",
    "- https://catalog.data.gov/dataset/u-s-chronic-disease-indicators-cdi\n",
    "\n",
    "1. načítanie datasetu - aby sme nemuseli dataset manuálne sťahovať, použijeme vstavané funkcie R pre stiahnutie a načítanie súboru"
   ]
  },
  {
   "cell_type": "code",
   "execution_count": null,
   "id": "0250d37d-e372-47bd-9186-40ddb4cd0802",
   "metadata": {},
   "outputs": [],
   "source": [
    "# URL to download the dataset\n",
    "dataset_url <- \"https://data.cdc.gov/api/views/g4ie-h725/rows.csv?accessType=DOWNLOAD\"\n",
    "\n",
    "# destination file path\n",
    "dest_file <- \"\" # TODO - fill in\n",
    "\n",
    "# download the dataset\n",
    "download.file(dataset_url, destfile = dest_file)\n",
    "\n",
    "# read the CSV file into R\n",
    "data <- read.csv(dest_file)"
   ]
  },
  {
   "cell_type": "markdown",
   "id": "6f674b53-9cbb-46eb-b78c-cf354090251b",
   "metadata": {},
   "source": [
    "2. Zobrazenie základých informácií o datasete\n",
    "\n",
    "   (Pri dlhých výstupoch je dobré zapnúť posuvný mód - klik pravým tlačidlom myši na Output a výber 'Enable Scrolling for Outputs')"
   ]
  },
  {
   "cell_type": "code",
   "execution_count": null,
   "id": "cff14d46-6ab7-40f1-83cc-9ab1be063498",
   "metadata": {
    "scrolled": true
   },
   "outputs": [],
   "source": [
    "# glimpse shows variables, variable type and first values\n",
    "glimpse(data)"
   ]
  },
  {
   "cell_type": "code",
   "execution_count": null,
   "id": "08aab78b-ab87-40f8-a7e6-0f49d701ac19",
   "metadata": {
    "scrolled": true
   },
   "outputs": [],
   "source": [
    "# view - similar to glimpse, but formatted\n",
    "# !! doesn't display all the variables, if there are too many\n",
    "View(data)"
   ]
  },
  {
   "cell_type": "markdown",
   "id": "33ec526b-4f8c-4e71-b76c-de8b62deb402",
   "metadata": {},
   "source": [
    "3. zobrazenie sumarizácie pre všetky premenné\n",
    "\n",
    "   - obsahuje základné matematické štatistiky pre numerické premenné\n",
    "   - obsahuje typ kategorickej premennej\n",
    "  \n",
    "   + **jednoduché zistenie zbytočných premenných**"
   ]
  },
  {
   "cell_type": "code",
   "execution_count": null,
   "id": "87f85dca-0850-4d58-85b2-47dd33e3a5fa",
   "metadata": {
    "scrolled": true
   },
   "outputs": [],
   "source": [
    "summary(data)"
   ]
  },
  {
   "cell_type": "markdown",
   "id": "8654225b-36f7-4fd1-9acd-d1d2f82a2a0b",
   "metadata": {},
   "source": [
    "4. Zobrazenie prvých a posledných riadkov datasetu\n",
    "\n",
    "   - overenie, či bol dataset načítaný správne"
   ]
  },
  {
   "cell_type": "code",
   "execution_count": null,
   "id": "fb794bad-4dc1-466a-93ec-cb9e52b1618e",
   "metadata": {
    "scrolled": true
   },
   "outputs": [],
   "source": [
    "head(data)\n",
    "tail(data)"
   ]
  },
  {
   "cell_type": "markdown",
   "id": "c5bc5b12-d18b-4755-aebc-abb1d1b047d3",
   "metadata": {},
   "source": [
    "5. Zobrazenie názvov premenných\n",
    "\n",
    "    - užitočné, pri vytváraní tabuliek, grafov, .."
   ]
  },
  {
   "cell_type": "code",
   "execution_count": null,
   "id": "014c4b0e-3f15-46f1-bf3b-2fb6455acf00",
   "metadata": {},
   "outputs": [],
   "source": [
    "colnames(data)"
   ]
  },
  {
   "cell_type": "markdown",
   "id": "c9ff019f-b407-4132-ae1e-549b303152f5",
   "metadata": {},
   "source": [
    "##### A. Kategorické premenné"
   ]
  },
  {
   "cell_type": "markdown",
   "id": "105044c9-5370-4e80-866d-bb69f5c2de28",
   "metadata": {},
   "source": [
    "6. Overenie hodnôt v premenných"
   ]
  },
  {
   "cell_type": "code",
   "execution_count": null,
   "id": "71c3bbd0-0d66-42e4-ac04-2fb2eb438088",
   "metadata": {},
   "outputs": [],
   "source": [
    "# there are only NA's\n",
    "unique(data$Response)\n",
    "unique(data$StratificationID2)"
   ]
  },
  {
   "cell_type": "code",
   "execution_count": null,
   "id": "b8e05aa0-5c7e-47c4-bd59-528fc4fb7ee2",
   "metadata": {},
   "outputs": [],
   "source": [
    "# there are more values\n",
    "unique(data$Topic)"
   ]
  },
  {
   "cell_type": "markdown",
   "id": "f40e5b67-a6d8-4c71-88cc-ae189c302ee4",
   "metadata": {},
   "source": [
    "7. Vytvorenie tabuľky\n",
    "\n",
    "   - počet záznamov v datasete pre danú hodnotu premennej\n",
    "   - tabuľku môžete tiež vytvárať pre viac premenných (premenné sú oddelené čiarkou), výsledkom je tabuľka, ktorá obsahuje počet záznamov vyskytujúcich sa v datasete pre jednotlivé kombinácie hodnôt vybraných premenných "
   ]
  },
  {
   "cell_type": "code",
   "execution_count": null,
   "id": "aea30d95-15b2-47d9-8b46-71be7851384c",
   "metadata": {
    "scrolled": true
   },
   "outputs": [],
   "source": [
    "table(data$LocationDesc)"
   ]
  },
  {
   "cell_type": "markdown",
   "id": "32733610-7bec-4b58-ac80-216683c10a39",
   "metadata": {},
   "source": [
    "8. Triedenie tabuľky\n",
    "\n",
    "    - predvolene triedená podľa hodnôt premennej podľa abecedy\n",
    "    - utrieďte tabuľku tak, aby na začiatku tabuľky boli štáty ktoré majú v datasete najviac záznamov  \n",
    "    - funkcia sort() - www.rdocumentation.org/packages/base/versions/3.6.2/topics/sort\n"
   ]
  },
  {
   "cell_type": "code",
   "execution_count": null,
   "id": "41139cce-6ca4-4e00-ac44-7317420e6631",
   "metadata": {},
   "outputs": [],
   "source": [
    "# TODO - sort the table"
   ]
  },
  {
   "cell_type": "markdown",
   "id": "d7f6bd89-8de6-447c-9be1-f236da5cf574",
   "metadata": {},
   "source": [
    "9. Grafické zobrazenie počtu hodnôt\n",
    "\n",
    "    - vytvorte čiarový graf, ktorý vám zobrazí počet záznamov pre jednotlivé kategórie (premenná Topics) v datasete  \n",
    "    - funkcia barplot() - www.rdocumentation.org/packages/graphics/versions/3.6.2/topics/barplot\n",
    "    - ďalšie formátovanie - www.r-graph-gallery.com/210-custom-barplot-layout.html  "
   ]
  },
  {
   "cell_type": "code",
   "execution_count": null,
   "id": "efb164cb-52f1-41ca-a058-c2f0dfed8611",
   "metadata": {},
   "outputs": [],
   "source": [
    "# settings for plot visualisation\n",
    "options(repr.plot.height = 5, repr.plot.res = 200)\n",
    "\n",
    "# TODO - create barplot from the previously sorted table (default = vertical)\n",
    "\n",
    "# TODO - set the labels' orientation to perpendicular (find 'las' attribute in the advanced formatting link)\n",
    "\n",
    "# increase margin size to fit\n",
    "# par(mar=c(20,5,1,1)) # vertical\n",
    "\n",
    "# TODO - change the barplot to horizontal (find 'horiz' attribute in the advanced formatting link)\n",
    "\n",
    "# par(mar=c(5,20,1,1)) # horizontal\n"
   ]
  },
  {
   "cell_type": "markdown",
   "id": "f42abd11-2e5d-4807-954a-2f96dadf2ec0",
   "metadata": {},
   "source": [
    "   \n",
    "##### B. Numerické premenné"
   ]
  },
  {
   "cell_type": "markdown",
   "id": "51eafef0-371f-400e-9b51-92995ab436c5",
   "metadata": {},
   "source": [
    "10. Zobrazenie matematických vlastností\n",
    "    \n",
    "    - variancia (variance): priemerná kvadratická odchýlka od priemeru\n",
    "    - smerodajná odchýlka (standard deviation): druhá odmocnina variancie\n",
    "    - horný/dolný kvartil (quartile): hodnota, od ktorej je 25%, resp. 75% hodnôt menších\n",
    "    - medián (median) - rozdeľuje súbor údajov na dve rovnaké polovice (polovica údajov je pred ním, polovica za ním)\n",
    "    - priemer (mean) - súčet všetkých hodnôt delený počtom hodnôt, ovplyvnený extrémnymi hodnotami\n",
    "    - NA - prázdne hodnoty\n",
    "\n",
    "Možnosť použiť ďalšie funkcie ako sd(), var(), boxplot.stats() a pod."
   ]
  },
  {
   "cell_type": "code",
   "execution_count": null,
   "id": "ff829fba-ad49-4f79-945c-5f13d4f026a3",
   "metadata": {},
   "outputs": [],
   "source": [
    "# summary shows min, max, 1.st and 3.rd Quartile, Median, Mean and NA's\n",
    "summary(data$DataValueAlt)"
   ]
  },
  {
   "cell_type": "markdown",
   "id": "08ad25e4-64de-4a11-ae3c-634d0932e12b",
   "metadata": {},
   "source": [
    "11. Zobrazenie chýbajúcich hodnôt v datasete\n",
    "    - chýbajúce hodnoty - NA - www.rdocumentation.org/packages/base/versions/3.6.2/topics/NA"
   ]
  },
  {
   "cell_type": "code",
   "execution_count": null,
   "id": "ce6dbca4-3e0c-4ede-afc4-709720ca4a04",
   "metadata": {
    "scrolled": true
   },
   "outputs": [],
   "source": [
    "# see data in variable\n",
    "data$LowConfidenceLimit\n",
    "\n",
    "# is.na - function that returns logical value, whether the value is NA or not\n",
    "is.na(data$LowConfidenceLimit)"
   ]
  },
  {
   "cell_type": "code",
   "execution_count": null,
   "id": "f1de09ac-d581-4ca5-9850-ef3117f4c826",
   "metadata": {
    "scrolled": true
   },
   "outputs": [],
   "source": [
    "# display all the variables of all the data, where LowConfidenceLimit is NA\n",
    "data[is.na(data$LowConfidenceLimit),] "
   ]
  },
  {
   "cell_type": "markdown",
   "id": "9b1757e8-757f-4e7b-8652-a926dbad9268",
   "metadata": {},
   "source": [
    "## Očistenie (clean)\n",
    "\n",
    "Očistenie údajov zahŕňa: \n",
    "- overenie/úpravu typov premenných\n",
    "- výber podstatných premenných\n",
    "- filtrovanie hodnôt, podľa toho čo chceme ďalej spracovávať\n",
    "- odstránenie NA a duplicitných údajov"
   ]
  },
  {
   "cell_type": "markdown",
   "id": "38e0befa-7962-442e-87e9-24b0d0a40191",
   "metadata": {},
   "source": [
    "1. Overenie a zmena typu premennej\n",
    "    - pri kategorických premenných je dobré zmeniť typ premennej z 'character' na 'factor', pretože pri niektorých štatistických testoch (napr. ANOVA) sa môže stať, že  táto premenná nebude vyhodnocovaná ako kateogrická, čo ovplyvní typ a výsledok použitého testu\n",
    "  \n",
    "    - as.factor - www.rdocumentation.org/packages/h2o/versions/3.42.0.2/topics/as.factor\n"
   ]
  },
  {
   "cell_type": "code",
   "execution_count": null,
   "id": "14e1fca4-15af-416f-a440-36c0ca95ca16",
   "metadata": {},
   "outputs": [],
   "source": [
    "# class function shows the variable type\n",
    "class(data$Topic)"
   ]
  },
  {
   "cell_type": "code",
   "execution_count": null,
   "id": "9372d52f-3177-435e-bce1-8fc01a86c8cf",
   "metadata": {},
   "outputs": [],
   "source": [
    "# change categorical variable types to factor\n",
    "data$LocationAbbr <- as.factor(data$LocationAbbr)\n",
    "data$LocationDesc <- as.factor(data$LocationDesc)\n",
    "data$DataSource <- as.factor(data$DataSource)\n",
    "data$Topic <- as.factor(data$Topic)\n",
    "data$TopicID <- as.factor(data$TopicID)\n",
    "data$Question <- as.factor(data$Question)\n",
    "data$QuestionID <- as.factor(data$QuestionID)\n",
    "data$StratificationCategory1 <- as.factor(data$StratificationCategory1)\n",
    "data$DataValueType <- as.factor(data$DataValueType)"
   ]
  },
  {
   "cell_type": "markdown",
   "id": "1c96fde3-1cbc-403b-94ec-3a2e881b2fde",
   "metadata": {},
   "source": [
    "2. Overenie hodnôt premennej (špecifické pre premenné typu factor)\n",
    "\n",
    "   - rozdiel unique/factor - unique vracia unikátne hodnoty prítomné vo vzorke, factor vracia všetky hodnoty, ktoré má premenná definované a môže ich nadobúdať (niečo ako výber hodnoty z dropdownu)"
   ]
  },
  {
   "cell_type": "code",
   "execution_count": null,
   "id": "54699717-2d3a-4bd3-95d7-05bd00ea2c9c",
   "metadata": {
    "scrolled": true
   },
   "outputs": [],
   "source": [
    "levels(data$StratificationCategory1)"
   ]
  },
  {
   "cell_type": "markdown",
   "id": "ba2cbf85-ba39-484e-8e1c-7dd9d1e5e3f7",
   "metadata": {},
   "source": [
    "3. Výber podstatných premenných\n",
    "\n",
    "   - redukcia datasetu - len premenné ktoré nás zaujímajú/majú pre nás nejakú hodnotu\n",
    "   - funkcia select - https://dplyr.tidyverse.org/reference/select.html\n",
    "   - pre opakujúce sa názvy použite funkciu starts_with - https://www.rdocumentation.org/packages/tidyselect/versions/1.2.0/topics/starts_with"
   ]
  },
  {
   "cell_type": "raw",
   "id": "1c18b84c-085d-457a-9f19-cf87e9314de6",
   "metadata": {},
   "source": [
    "Zoznam premenných v datasete:\n",
    "\n",
    "YearStart, YearEnd, LocationAbbr, LocationDesc, DataSource, Topic, Question, Response, DataValueUnit, DataValueType, DataValue, DataValueAlt, DataValueFootnoteSymbol, DatavalueFootnote, LowConfidenceLimit, HighConfidenceLimit, StratificationCategory1, Stratification1, StratificationCategory2, Stratification2, StratificationCategory3, Stratification3, GeoLocation, ResponseID, LocationID, TopicID, QuestionID, DataValueTypeID, StratificationCategoryID1, StratificationID1, StratificationCategoryID2, StratificationID2, StratificationCategoryID3, StratificationID3"
   ]
  },
  {
   "cell_type": "markdown",
   "id": "3b4ff4c9-25c9-4c12-b08b-ca5333fd15e3",
   "metadata": {},
   "source": [
    "**Ktoré premenné na základe doterajších znalostí môžeme vynechať?**"
   ]
  },
  {
   "cell_type": "code",
   "execution_count": null,
   "id": "b7fdf0d4-8469-442e-9dec-7775e834f522",
   "metadata": {
    "scrolled": true
   },
   "outputs": [],
   "source": [
    "# %>% in R means redirecting the output to some function, similar to >> in bash\n",
    " #TODO"
   ]
  },
  {
   "cell_type": "markdown",
   "id": "c699086b-34ee-46f5-83ae-b5f466f85109",
   "metadata": {},
   "source": [
    "V premennej DataValueUnit sa v niektorých záznamoch nachádzajú prázdne hodnoty. \n",
    "\n",
    "**Malo by význam ich vyfiltrovať ?** \n",
    "\n",
    "Ak áno tak kedy ?"
   ]
  },
  {
   "cell_type": "markdown",
   "id": "6adea9af-4cce-4bea-8ca4-36ace6c14160",
   "metadata": {},
   "source": [
    "4. Výber záznamov s ktorými chceme pracovať\n",
    "\n",
    "   - napríklad chceme pracovať len s otázkami ktoré sa týkajú cukrovky (TopicID = 'DIA') a boli zaznamenané od roku 2015.\n",
    "   - doplňte predošlý výber údajov o filtrovanie tak, že výstup z funkcie select presmerujete do ďalšej funkcie, kde vyfiltrujete údaje\n",
    "   - použite funkciu filter - https://dplyr.tidyverse.org/articles/grouping.html?q=filter#filter\n",
    "   - pre porovnávanie faktorov/stringov môžete použiť %in% operator - NázovPremennej %in% \"HodnotaPremennej\"\n",
    "   - operátory v R - https://www.statmethods.net/management/operators.html\n",
    "   - priraďte output do premennej `data_chosen`"
   ]
  },
  {
   "cell_type": "code",
   "execution_count": null,
   "id": "96403871-5dd0-48fc-8ed5-5f1b867b34d0",
   "metadata": {},
   "outputs": [],
   "source": [
    "# TODO\n",
    "# use function filter(condition1 & condition2)"
   ]
  },
  {
   "cell_type": "markdown",
   "id": "99300601-08d5-40c0-8a39-37665dcf1077",
   "metadata": {},
   "source": [
    "5. Odstránenie chýbajúcich hodnôt\n",
    "\n",
    "    - dôležité najmä pre numerické premenné - použitie matematických funkcií "
   ]
  },
  {
   "cell_type": "code",
   "execution_count": null,
   "id": "3409a0ba-b89a-4c71-9fc9-4015bc84f43f",
   "metadata": {},
   "outputs": [],
   "source": [
    "# numeric variable with non-numeric datatype\n",
    "mean(data_chosen$DataValue)"
   ]
  },
  {
   "cell_type": "code",
   "execution_count": null,
   "id": "0f155e44-fc33-4f76-8ce2-f5c0e872a901",
   "metadata": {},
   "outputs": [],
   "source": [
    "# numeric variable with numeric datatype but also NA's\n",
    "mean(data_chosen$DataValueAlt)"
   ]
  },
  {
   "cell_type": "code",
   "execution_count": null,
   "id": "2e614497-0450-41ad-8e75-014a49b80924",
   "metadata": {},
   "outputs": [],
   "source": [
    "# numeric variable with numeric datatype but also NA's\n",
    "mean(data_chosen$DataValueAlt, na.rm = TRUE)"
   ]
  },
  {
   "cell_type": "markdown",
   "id": "7bcb65fc-31fd-45dc-8dba-63fdc60a6ec3",
   "metadata": {},
   "source": [
    "6. Zobrazenie nekompletných záznamov"
   ]
  },
  {
   "cell_type": "code",
   "execution_count": null,
   "id": "910506cf-537f-4b73-8fa4-1acae60ae408",
   "metadata": {
    "scrolled": true
   },
   "outputs": [],
   "source": [
    "# the dot passes the input of the filter function as an input to the complete.cases function\n",
    "data_chosen %>% \n",
    "    filter(!complete.cases(.))"
   ]
  },
  {
   "cell_type": "markdown",
   "id": "7dc4e9c0-ca91-4e68-b0ca-beaac12f4181",
   "metadata": {},
   "source": [
    "Vymazanie záznamov, ktoré majú v stĺpci DataValueAlt hodnotu NA"
   ]
  },
  {
   "cell_type": "code",
   "execution_count": null,
   "id": "f76cc84e-0413-4c51-a2fa-b3f3e4f9a38d",
   "metadata": {
    "scrolled": true
   },
   "outputs": [],
   "source": [
    "data_filtered <- data_chosen %>% \n",
    "    drop_na(DataValueAlt)\n",
    "\n",
    "data_filtered"
   ]
  },
  {
   "cell_type": "markdown",
   "id": "9d7298c7-6251-4893-9ca4-342c670e09cb",
   "metadata": {},
   "source": [
    "Overenie, či dataset obsahuje ešte nejaké NA hodnoty:"
   ]
  },
  {
   "cell_type": "code",
   "execution_count": null,
   "id": "dcd7c831-ff38-475b-b60b-98edaf8c8f4c",
   "metadata": {
    "scrolled": true
   },
   "outputs": [],
   "source": [
    "# TODO"
   ]
  },
  {
   "cell_type": "markdown",
   "id": "dca7da14-bacf-4cce-b806-e3097c9ee8f0",
   "metadata": {},
   "source": [
    "7. Odstránenie duplicitných hodnôt\n",
    "    \n",
    "    - funkcia distinct - https://www.rdocumentation.org/packages/dplyr/versions/1.0.10/topics/distinct"
   ]
  },
  {
   "cell_type": "code",
   "execution_count": null,
   "id": "43e5efe1-2fa8-4cd6-8737-ffe99d10062e",
   "metadata": {},
   "outputs": [],
   "source": [
    "data_clean <- data_filtered %>% \n",
    "    distinct()"
   ]
  },
  {
   "cell_type": "markdown",
   "id": "1b2152c1-1ec5-4865-a3bb-ca826301ef13",
   "metadata": {},
   "source": [
    "## Úpravy (mutate)\n",
    "\n",
    "- ak z nejakých dôvodov potrebujeme urobiť zmeny premenných\n",
    "    - prekódovanie premennej\n",
    "    - zmena názvu premennej\n",
    "    - vytvorenie pivotovej tabuľky a pod."
   ]
  },
  {
   "cell_type": "markdown",
   "id": "faed58c3-2c46-4d90-b09d-fccace466d7e",
   "metadata": {},
   "source": [
    "1. Prekódovanie hodnôt\n",
    "\n",
    "   - napr. ak chceme niektorú z kategorických premenných označiť číselným kódovaním, prípadne zmeniť ich poradie, atď."
   ]
  },
  {
   "cell_type": "code",
   "execution_count": null,
   "id": "09ca159f-34c2-4287-8c22-2e4616865066",
   "metadata": {},
   "outputs": [],
   "source": [
    "unique(data_clean$Stratification1)\n",
    "unique(data_clean$StratificationID1)"
   ]
  },
  {
   "cell_type": "markdown",
   "id": "91d4669d-285a-4741-aebe-78a3303fd5fb",
   "metadata": {},
   "source": [
    "Aký dátový typ má premenná `Stratification1` ?"
   ]
  },
  {
   "cell_type": "code",
   "execution_count": null,
   "id": "ed8d2c7a-9948-4510-ac81-988712f12597",
   "metadata": {},
   "outputs": [],
   "source": [
    "# TODO"
   ]
  },
  {
   "cell_type": "markdown",
   "id": "9d945d0c-68e5-41f7-8aeb-707d96abf527",
   "metadata": {},
   "source": [
    "Aky typ musí mať aby bola kategorická?\n",
    "\n",
    "Zmeňte typ premennej `StratificationID1` na kategorický a nastavte poradie hodnôt v tejto premennej.\n",
    "\n",
    "- Použite funkciu factor - https://www.rdocumentation.org/packages/base/versions/3.6.2/topics/factor"
   ]
  },
  {
   "cell_type": "code",
   "execution_count": null,
   "id": "4bbf704b-88d0-4232-820a-6ab83b7b6248",
   "metadata": {},
   "outputs": [],
   "source": [
    "# TODO\n",
    "# variable <- factor(variable, levels = c( ... (values) )"
   ]
  },
  {
   "cell_type": "markdown",
   "id": "ad4b18c2-fe58-4446-abee-5e9b63c0f0f3",
   "metadata": {},
   "source": [
    "Vytvorte v datasete `data_clean` novú premennú s názvom `Stratification1ID_code`, ktorá bude obsahovať zakódované hodnoty premennej  `Stratification1ID` vo forme celých čísel.\n",
    "- Použite funkciu as.integer - https://www.rdocumentation.org/packages/base/versions/3.6.2/topics/integer"
   ]
  },
  {
   "cell_type": "code",
   "execution_count": null,
   "id": "23ae0075-c610-4565-a146-aed1b7c6e4e6",
   "metadata": {},
   "outputs": [],
   "source": [
    "# TODO"
   ]
  },
  {
   "cell_type": "markdown",
   "id": "4ea343d2-af0f-4546-bd9c-bef5ec40ee00",
   "metadata": {},
   "source": [
    "2. Zmena názvu premennej\n",
    "- funkcia rename - https://dplyr.tidyverse.org/reference/rename.html"
   ]
  },
  {
   "cell_type": "code",
   "execution_count": null,
   "id": "611a1b19-49cc-4381-b0dd-cf63af19c106",
   "metadata": {},
   "outputs": [],
   "source": [
    "data_clean <- data_clean %>%\n",
    "    rename(\"DataValueNum\" = \"DataValueAlt\")  # target = source"
   ]
  },
  {
   "cell_type": "markdown",
   "id": "cc657f00-e692-4b6c-a9bd-4ec6d5a64df6",
   "metadata": {},
   "source": [
    "3. Vytvorenie kontingenčnej tabuľky (pivot table)\n",
    "\n",
    "   - vzájomný vzťah dvoch premenných\n",
    "   - stĺpce ukazujú hodnoty jednej premennej, riadky druhej premennej\n",
    "   - hodnoty v tabuľke ukazujú agregované hodnoty - počet, maximum, minimum, priemer, ..\n",
    "  \n",
    "Na vytvorenie sa môže použiť funkcia pivot_wider alebo pivot_longer"
   ]
  },
  {
   "cell_type": "code",
   "execution_count": null,
   "id": "f9239055-0ecb-4978-aa2d-1b6a46b917cd",
   "metadata": {
    "scrolled": true
   },
   "outputs": [],
   "source": [
    "# select specific data for pivot table only\n",
    "data_pivot <- select(data_clean, YearStart, LocationAbbr, DataValueNum) \n",
    "\n",
    "# pivot table in wider format where columns are YearStart values, \n",
    "# rows are LocationAbbr and values are the mean of DataValueAlt\n",
    "pivot_table <- data_pivot %>%\n",
    "    pivot_wider(names_from = YearStart, \n",
    "                values_from = DataValueNum, \n",
    "                values_fn = list(DataValueNum = mean))\n",
    "\n",
    "pivot_table"
   ]
  },
  {
   "cell_type": "markdown",
   "id": "791b1069-af02-4449-84e7-991e795b5903",
   "metadata": {},
   "source": [
    "## Popis (describe)\n",
    "\n",
    "- popis intervalu, v ktorom sa údaje nachádzajú\n",
    "- ich sústredenie (centralizovanie) okolo stredu\n",
    "- rozptyl\n",
    "- sumarizácia\n",
    "- vytvorenie tabuliek"
   ]
  },
  {
   "cell_type": "markdown",
   "id": "ca384b39-daa1-4c70-90d1-674938854078",
   "metadata": {},
   "source": [
    "1. Popis matematických vlastností"
   ]
  },
  {
   "cell_type": "code",
   "execution_count": null,
   "id": "b0871525-f611-4653-ad7b-389a9afef224",
   "metadata": {},
   "outputs": [],
   "source": [
    "min(data_clean$DataValueNum)\n",
    "max(data_clean$DataValueNum)\n",
    "\n",
    "# min - max\n",
    "range(data_clean$DataValueNum)\n",
    "\n",
    "# interquartile range\n",
    "IQR(data_clean$DataValueNum)\n",
    "\n",
    "mean(data_clean$DataValueNum, na.rm = TRUE)\n",
    "median(data_clean$DataValueNum)\n",
    "\n",
    "var(data_clean$DataValueNum)"
   ]
  },
  {
   "cell_type": "markdown",
   "id": "db69fd67-0caf-4eed-910b-f262bb1391c2",
   "metadata": {},
   "source": [
    "2. Vytvorenie tabuľky s použitím sumarizácie\n",
    "\n",
    "   - zoskupovanie údajov - funkcia group_by - https://dplyr.tidyverse.org/reference/group_by.html\n",
    "   - funkcia summarise - https://dplyr.tidyverse.org/reference/summarise.html"
   ]
  },
  {
   "cell_type": "code",
   "execution_count": null,
   "id": "de2c9c74-4e8e-43e9-8689-03dbac344b15",
   "metadata": {
    "scrolled": true
   },
   "outputs": [],
   "source": [
    "data_clean %>%\n",
    "    group_by(LocationAbbr) %>%\n",
    "    summarise(MinValue = min(DataValueNum), \n",
    "              MaxValue = max(DataValueNum), \n",
    "              Mean = mean(DataValueNum),\n",
    "              SD = sd(DataValueNum))"
   ]
  },
  {
   "cell_type": "markdown",
   "id": "bfdfe64c-1156-4e8a-96a8-513fb30b8115",
   "metadata": {},
   "source": [
    "## Vizualizácia (vizualize)\n",
    "\n",
    "- grafy pre jednoduché pochopenie údajov\n",
    "- oddelenie kategorickej závislej premennej v priestore nezávislých premenných\n",
    "    - napr. farebné oddelenie chorých/zdravých pacientov v grafe priemerných hodnôt krvného tlaku a veku\n",
    " \n",
    "+ najpoužívanejšia knižnica - ggplot2 - https://ggplot2.tidyverse.org/"
   ]
  },
  {
   "cell_type": "markdown",
   "id": "19c49233-171f-4ff5-a454-a9d2696d0352",
   "metadata": {},
   "source": [
    "1. Stĺpcový graf Výskytu cukrovky podľa lokality"
   ]
  },
  {
   "cell_type": "code",
   "execution_count": null,
   "id": "9eef239d-340d-4853-9e27-d2a730678134",
   "metadata": {},
   "outputs": [],
   "source": [
    "ggplot(data_clean, aes(x = LocationAbbr, y = DataValueNum)) +\n",
    "  geom_col() +\n",
    "  theme(axis.text.x = element_text(angle = 90)) +\n",
    "  labs(title = \"Prevalence of Diabetes by Location\", y = \"Prevalence (%)\", x = \"Location\")"
   ]
  },
  {
   "cell_type": "markdown",
   "id": "13d7f623-d19e-4a36-8dc3-46e3968afbdf",
   "metadata": {},
   "source": [
    "6. Boxplot diagram\n",
    "\n",
    "   - čiara - medián\n",
    "   - box - medzikvartilové rozpätie - obsahuje 50% hodnôt\n",
    "   - hranice - minimum, maximum\n",
    "  \n",
    "<img src=\"data/boxplot.png \" alt=\"Workflow diagram\" width=\"70%\"/>"
   ]
  },
  {
   "cell_type": "markdown",
   "id": "e8af16d4-0a14-4342-bc0b-e9e7909edf5b",
   "metadata": {},
   "source": [
    "Pozorovania:\n",
    "\n",
    "- Medián zaočkovanosti je vo všetkých skupinách v intervale 40-60 %.\n",
    "- Medzikvartilové rozpätie (IQR - box) je vo väčšine skupín podobné, čo naznačuje konzistentné rozloženie údajov okolo mediánu.\n",
    "- Najmenšia vaeriabilita je v skupine \"Multiracial, non-Hispanic\".\n",
    "- V niekoľkých skupinách sa vyskytujú odľahlé hodnoty, najmä v skupinách \"Black, non-Hispanic, Male a Overall\", čo poukazuje na niektoré osoby s výrazne nižšou mierou zaočkovanosti."
   ]
  },
  {
   "cell_type": "markdown",
   "id": "19dbb668-3006-4c2c-a9ba-7dcfa3f26801",
   "metadata": {},
   "source": [
    "## Analýza (analyze)\n"
   ]
  },
  {
   "cell_type": "markdown",
   "id": "1847706f-0c42-47cc-971c-ac3b048b249b",
   "metadata": {},
   "source": [
    "- Odhalenie závislostí (napr. korelácia)\n",
    "- Štatistické testy\n",
    "- Algoritmy (dimenzionálna redukcia, strojové učenie, ...)"
   ]
  },
  {
   "cell_type": "markdown",
   "id": "3e5d26bc-db42-464d-8a7b-ae0fa7907a40",
   "metadata": {},
   "source": [
    "Dataset Breast Cancer Wisconsin (Original)\n",
    "\n",
    "- dostupný na https://archive.ics.uci.edu/dataset/15/breast+cancer+wisconsin+original\n",
    "\n",
    "- premenné:\n",
    "    - Sample_code_number (ID),\n",
    "    - Clump_thickness - hrúbka zhluku\n",
    "    - Uniformity_of_cell_size - Uniformita veľkosti buniek\n",
    "    - Uniformity_of_cell_shape - uniformita tvaru buniek\n",
    "    - Marginal_adhesion - Priľnavosť okrajov\n",
    "    - Single_epithelial_cell_size - veľkosť jednej epitelovej bunky\n",
    "    - Bare_nuclei - \"holé\" jadrá (bez cytoplazmy)\n",
    "    - Bland_chromatin - nevýrazný chromatín\n",
    "    - Normal_nucleoli - normálne jadrá\n",
    "    - Mitoses - mitózy\n",
    "    - Class - typ nádoru (4 Malígny, 2 Benígny)"
   ]
  },
  {
   "cell_type": "code",
   "execution_count": null,
   "id": "947c896a-c0dc-452a-964d-50f836c7079e",
   "metadata": {},
   "outputs": [],
   "source": [
    "# load the dataset\n",
    "url <- \"https://archive.ics.uci.edu/ml/machine-learning-databases/breast-cancer-wisconsin/breast-cancer-wisconsin.data\"\n",
    "\n",
    "# change the variable names\n",
    "data_bc <- read.csv(file = url, header = FALSE,\n",
    "                col.names = c(\"id\",\"CT\", \"UCSize\", \"UCShape\", \"MA\", \"SECS\", \"BN\", \"BC\", \"NN\",\"M\", \"diagnosis\"))\n",
    "head(data_bc)\n",
    "\n",
    "# mutate the diagnosis variable\n",
    "data_bc$diagnosis[data_bc$diagnosis==4] = 1 # malign\n",
    "data_bc$diagnosis[data_bc$diagnosis==2] = 0 # benign\n",
    "\n",
    "#filter to check and review any duplicate records\n",
    "data_bc <- data_bc %>% \n",
    "    distinct()\n",
    "\n",
    "# select only relevant variables\n",
    "data_bc <- data_bc %>% select(-id, -BN)\n",
    "\n",
    "head(data_bc)\n"
   ]
  },
  {
   "cell_type": "markdown",
   "id": "89877536-97db-4170-ba47-d70c8af8bcd9",
   "metadata": {},
   "source": [
    "1. Vzťahy medzi premennými\n",
    "\n",
    "   - premenné sa môžu navzájom ovplyvňovať\n",
    "   - lineárne alebo nelineárne vzťahy\n",
    "   - vizualizácia pre jednoduché pochopenie, či je možné pomocou vybraných premenných jednoznačne oddeliť hodnoty závislej premennej (v tomto prípade benígne a malígne nádory)"
   ]
  },
  {
   "cell_type": "code",
   "execution_count": null,
   "id": "9d32cef4-68e8-4eb7-bd14-4773efebf6a3",
   "metadata": {},
   "outputs": [],
   "source": [
    "ggplot(data_bc, aes(x = M, y = BC, color = diagnosis)) +\n",
    "  geom_point() +\n",
    "  ggtitle(\"Scatter Plot of M vs BC\")"
   ]
  },
  {
   "cell_type": "code",
   "execution_count": null,
   "id": "cc685bf6-6390-4a31-8ab7-4276e5038f19",
   "metadata": {},
   "outputs": [],
   "source": [
    "ggplot(data_bc, aes(x = UCSize, y = UCShape, color = diagnosis)) +\n",
    "  geom_point() +\n",
    "  ggtitle(\"Scatter Plot of UCSize vs UCShape\")"
   ]
  },
  {
   "cell_type": "markdown",
   "id": "d7de34a6-fa3d-4471-b3ae-29d09b349e55",
   "metadata": {},
   "source": [
    "2. Korelácia premenných\n",
    "\n",
    "    - V intervale <-1, 1> \n",
    "    - pozitívna (1) - so zvyšovaním jednej premennej sa zvyšuje aj druhá\n",
    "    - negatívna (-1) - so zvyšovaním jednej premennej sa druhá premenná znižuje\n",
    "    - nulová (0) - premenné sa neovplyvňujú\n",
    "\n",
    "\n",
    "   Korelácia neznamená kauzalitu - dva javy sa môžu ukazovať ako závislé, ale neznamená to, že jeden spôsobuje vznik druhého."
   ]
  },
  {
   "cell_type": "code",
   "execution_count": null,
   "id": "51643fae-936a-400f-bda5-a8ca4ef573ff",
   "metadata": {},
   "outputs": [],
   "source": [
    "library(corrplot)\n",
    "\n",
    "# create a correlation matrix\n",
    "data_bc_matrix <- cor(data_bc)\n",
    "\n",
    "# create a correlation plot\n",
    "corrplot(data_bc_matrix, order=\"hclust\", type='upper',tl.srt = 45, tl.cex = 0.6)"
   ]
  }
 ],
 "metadata": {
  "kernelspec": {
   "display_name": "R",
   "language": "R",
   "name": "ir"
  },
  "language_info": {
   "codemirror_mode": "r",
   "file_extension": ".r",
   "mimetype": "text/x-r-source",
   "name": "R",
   "pygments_lexer": "r",
   "version": "4.3.3"
  }
 },
 "nbformat": 4,
 "nbformat_minor": 5
}
