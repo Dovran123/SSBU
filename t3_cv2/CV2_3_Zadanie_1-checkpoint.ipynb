{
 "cells": [
  {
   "cell_type": "markdown",
   "id": "6854f873-5d15-4d3c-a71b-8858b7de6d12",
   "metadata": {},
   "source": [
    "## Zadanie 1 (5b)\n",
    "\n",
    "V tomto zadaní budete pracovať s datasetom Heart Failure Clinical Records, ktorý obsahuje záznamy pacientov so zlyhaním srdca, zozbierané počas obdobia ich sledovania.\n",
    "\n",
    "Dataset je dostupný online: https://archive.ics.uci.edu/dataset/519/heart+failure+clinical+records\n",
    "\n",
    "Na stránke nájdete aj doplňujúce informácie o premenných, ktoré dataset obsahuje. (Odporúčam prečítať :) ) \n"
   ]
  },
  {
   "cell_type": "code",
   "execution_count": 4,
   "id": "d71ad566-64ab-4be4-ab6b-d5cc2807df4d",
   "metadata": {},
   "outputs": [
    {
     "name": "stderr",
     "output_type": "stream",
     "text": [
      "── \u001b[1mAttaching core tidyverse packages\u001b[22m ──────────────────────────────────────────────────────────────── tidyverse 2.0.0 ──\n",
      "\u001b[32m✔\u001b[39m \u001b[34mdplyr    \u001b[39m 1.1.4     \u001b[32m✔\u001b[39m \u001b[34mreadr    \u001b[39m 2.1.5\n",
      "\u001b[32m✔\u001b[39m \u001b[34mforcats  \u001b[39m 1.0.0     \u001b[32m✔\u001b[39m \u001b[34mstringr  \u001b[39m 1.5.1\n",
      "\u001b[32m✔\u001b[39m \u001b[34mggplot2  \u001b[39m 3.5.0     \u001b[32m✔\u001b[39m \u001b[34mtibble   \u001b[39m 3.2.1\n",
      "\u001b[32m✔\u001b[39m \u001b[34mlubridate\u001b[39m 1.9.3     \u001b[32m✔\u001b[39m \u001b[34mtidyr    \u001b[39m 1.3.1\n",
      "\u001b[32m✔\u001b[39m \u001b[34mpurrr    \u001b[39m 1.0.2     \n",
      "── \u001b[1mConflicts\u001b[22m ────────────────────────────────────────────────────────────────────────────────── tidyverse_conflicts() ──\n",
      "\u001b[31m✖\u001b[39m \u001b[34mdplyr\u001b[39m::\u001b[32mfilter()\u001b[39m masks \u001b[34mstats\u001b[39m::filter()\n",
      "\u001b[31m✖\u001b[39m \u001b[34mdplyr\u001b[39m::\u001b[32mlag()\u001b[39m    masks \u001b[34mstats\u001b[39m::lag()\n",
      "\u001b[36mℹ\u001b[39m Use the conflicted package (\u001b[3m\u001b[34m<http://conflicted.r-lib.org/>\u001b[39m\u001b[23m) to force all conflicts to become errors\n",
      "corrplot 0.92 loaded\n",
      "\n"
     ]
    }
   ],
   "source": [
    "# link necessary libraries\n",
    "library(tidyverse)\n",
    "library(corrplot)\n",
    "\n",
    "# settings for plot visualisation\n",
    "options(repr.plot.height = 5, repr.plot.res = 200)"
   ]
  },
  {
   "cell_type": "markdown",
   "id": "a82f6441-a9ef-45fa-b529-02fa59f7798a",
   "metadata": {},
   "source": [
    "Načítanie datasetu - dataset viete funkciami dostupnými v R stiahnuť a rozbaliť aj z formátu ZIP"
   ]
  },
  {
   "cell_type": "code",
   "execution_count": 6,
   "id": "8db6cd70-f999-4b85-92ef-9156858e4be6",
   "metadata": {},
   "outputs": [],
   "source": [
    "# URL of the dataset\n",
    "dataset_url <- \"https://archive.ics.uci.edu/static/public/519/heart+failure+clinical+records.zip\"\n",
    "\n",
    "# create temporary destination file path with .zip extension\n",
    "dest_file <- tempfile(fileext = \".zip\")\n",
    "\n",
    "# download the dataset, mode = write binary\n",
    "download.file(dataset_url, destfile = dest_file, mode = \"wb\")\n",
    "\n",
    "# unzip the file into chosen location (enter directory)\n",
    "unzip(dest_file, exdir = \"data/\") # TODO fill in"
   ]
  },
  {
   "cell_type": "markdown",
   "id": "8af7058b-20cf-4ece-8c7f-e2f38c33e94f",
   "metadata": {},
   "source": [
    "### Úloha 1 (1b)"
   ]
  },
  {
   "cell_type": "markdown",
   "id": "8ceeaa27-3e3e-4b13-9251-2a375fc948d1",
   "metadata": {},
   "source": [
    "Načítajte dataset do premennej `data_hw`."
   ]
  },
  {
   "cell_type": "code",
   "execution_count": 18,
   "id": "2b998cf8-0fa4-4240-80ca-a6c4c483ca52",
   "metadata": {
    "scrolled": true
   },
   "outputs": [
    {
     "name": "stdout",
     "output_type": "stream",
     "text": [
      "[1] FALSE\n"
     ]
    }
   ],
   "source": [
    "data_hw  <- read.csv(\"data/heart_failure_clinical_records_dataset.csv\")\n",
    "\n",
    "#contains_na <- any(is.na(data_hw))\n",
    "#print(contains_na) \n",
    "#str(data_hw)\n",
    "#contains_duplicates <- any(duplicated(data_hw) | duplicated(data_hw, fromLast = TRUE))\n",
    "#print(contains_duplicates)"
   ]
  },
  {
   "cell_type": "markdown",
   "id": "31431105-076e-45cb-b601-024fb88968ca",
   "metadata": {},
   "source": [
    "   **Obsahuje dataset chýbajúce hodnoty (NA) ?**"
   ]
  },
  {
   "cell_type": "raw",
   "id": "87207cc0-87e1-44fc-907a-00d090224c04",
   "metadata": {},
   "source": [
    "neobsahuje"
   ]
  },
  {
   "cell_type": "markdown",
   "id": "0758892b-bfa0-490f-8da2-958df68ad526",
   "metadata": {},
   "source": [
    "**Aký typ majú vybrané premenné v datasete ? (numerické/kategorické)** (Ak by ste si pri niektorých premenných neboli istí, zdôvodnite svoju odpoveď.)\n",
    "\n",
    "- age\n",
    "- anaemia \n",
    "- high_blood_pressure\n",
    "- serum_sodium\n",
    "- death_event"
   ]
  },
  {
   "cell_type": "raw",
   "id": "7edd44a4-9bce-472e-88cc-1bae5b5c8443",
   "metadata": {},
   "source": [
    "age - numericka \n",
    "annaemia - kategoricka\n",
    "high_blood_pressure = kategoricka\n",
    "serum_sodium = numericka\n",
    "death_event = katerocka"
   ]
  },
  {
   "cell_type": "markdown",
   "id": "22304314-9212-490d-a44b-62c2412888a9",
   "metadata": {},
   "source": [
    "**Obsahuje dataset duplicitné záznamy?**"
   ]
  },
  {
   "cell_type": "raw",
   "id": "a9e6f530-ac31-4c07-b88c-e8125a423097",
   "metadata": {},
   "source": [
    "neobsahuje"
   ]
  },
  {
   "cell_type": "markdown",
   "id": "96a14512-f20f-499c-8398-d7cd3e6d1289",
   "metadata": {},
   "source": [
    "### Úloha 2 (1b)\n",
    "\n",
    "Skúmajte premennú 'sex' (pohlavie). Premenná je kódovaná hodnotami 0 a 1. ( 0 = žena, 1 = muž) \n"
   ]
  },
  {
   "cell_type": "code",
   "execution_count": 21,
   "id": "977467e5-d390-4ca4-93b1-33aa9cb576d6",
   "metadata": {
    "scrolled": true
   },
   "outputs": [
    {
     "name": "stdout",
     "output_type": "stream",
     "text": [
      "   \n",
      "      0   1\n",
      "  0 101   4\n",
      "  1 102  92\n"
     ]
    }
   ],
   "source": [
    "pocty_pohlavi <- table(data_hw$sex, data_hw$smoking )\n",
    "print(pocty_pohlavi)"
   ]
  },
  {
   "cell_type": "markdown",
   "id": "d7789c28-0857-4a4b-b89e-6bfc9569191f",
   "metadata": {},
   "source": [
    "**Koľko záznamov mužov a žien obsahuje dataset?**"
   ]
  },
  {
   "cell_type": "raw",
   "id": "b52c7e12-3a4f-4b97-a98c-e6d2e42080a2",
   "metadata": {},
   "source": [
    "zien 105 a muzov 194 "
   ]
  },
  {
   "cell_type": "markdown",
   "id": "4f9085d2-e941-422b-b7f8-5708c0cdce73",
   "metadata": {},
   "source": [
    "**Koľko mužov a žien je nefajčiarov ? (0 = nefajčiar, 1 = fajčiar)**"
   ]
  },
  {
   "cell_type": "raw",
   "id": "6516093e-72d8-46ab-9fb6-6aaceead23a0",
   "metadata": {},
   "source": [
    "zien 101 a muzov nefajciarov 102 "
   ]
  },
  {
   "cell_type": "markdown",
   "id": "ba365496-6912-408d-bcfc-a7f2993c148e",
   "metadata": {},
   "source": [
    "### Úloha 3 (1b)\n",
    "\n",
    "Popíšte premennú 'age' (vek)."
   ]
  },
  {
   "cell_type": "code",
   "execution_count": 26,
   "id": "12399271-25b2-4871-ab16-dcd9e0fd6f46",
   "metadata": {},
   "outputs": [
    {
     "name": "stdout",
     "output_type": "stream",
     "text": [
      "[1] \"Minimálny vek: 40\"\n",
      "[1] \"Maximálny vek: 95\"\n",
      "[1] \"Priemerný vek: 60.8338929765886\"\n",
      "[1] \"60\"\n"
     ]
    }
   ],
   "source": [
    "# Minimálny vek\n",
    "min_age <- min(data_hw$age)\n",
    "\n",
    "# Maximálny vek\n",
    "max_age <- max(data_hw$age)\n",
    "\n",
    "# Priemerný vek\n",
    "mean_age <- mean(data_hw$age)\n",
    "\n",
    "# Vypísanie výsledkov\n",
    "print(paste(\"Minimálny vek:\", min_age))\n",
    "print(paste(\"Maximálny vek:\", max_age))\n",
    "print(paste(\"Priemerný vek:\", mean_age))\n",
    "\n",
    "\n",
    "age_counts <- table(data_hw$age)\n",
    "\n",
    "# Nájdenie veku s najväčším počtom záznamov\n",
    "most_common_age <- names(which.max(age_counts))\n",
    "print(most_common_age)\n"
   ]
  },
  {
   "cell_type": "markdown",
   "id": "fb2d9df9-7a57-414c-a13f-095acc8bb550",
   "metadata": {},
   "source": [
    "**Aký je minimálny, maximálny a priemerný vek pacientov v datasete?**"
   ]
  },
  {
   "cell_type": "raw",
   "id": "08599e0e-d183-4b31-a224-8f1288bcc12b",
   "metadata": {},
   "source": [
    "\"Minimálny vek: 40\", \"Maximálny vek: 95\",  \"Priemerný vek: 60.8338929765886\""
   ]
  },
  {
   "cell_type": "markdown",
   "id": "65cf63d5-1b33-4d5e-9ce3-c99b01c2f588",
   "metadata": {},
   "source": [
    "**Z akého veku je v datasete najviac záznamov?**"
   ]
  },
  {
   "cell_type": "raw",
   "id": "33ffe607-c8ad-4368-a0ad-5de841c5851a",
   "metadata": {},
   "source": [
    "60 tnici"
   ]
  },
  {
   "cell_type": "markdown",
   "id": "6b93d9ab-556a-446f-a880-a5ab7743a96a",
   "metadata": {},
   "source": [
    "### Úloha 4 (1b)\n",
    "\n",
    "Pridajte do datasetu novú premennú s názvom `risk`, ktorá bude predstavovať riziko úmrtia pacienta po zlyhaní srdca. Táto premenná bude kategorická a bude obsahovať hodnoty 'Low' a 'High'. \n",
    "Premennú vytvorte na základe if-else rozhodovania podľa premenných 'age' a 'serum_creatinine':\n",
    "\n",
    "- Ak je vek pacienta väčší ako 50 a zároveň level kreatinínu v krvnom sére ('serum_creatinine') je väčší ako 1.2 mg/dL, tak hodnota premennej 'Risk' je 'High'.\n",
    "- V opačnom prípade je hodnota 'Low'\n",
    "\n",
    "- pre vytvorenie premennej použite funkciu ifelse - https://www.rdocumentation.org/packages/base/versions/3.6.2/topics/ifelse"
   ]
  },
  {
   "cell_type": "code",
   "execution_count": 27,
   "id": "6a9dadd2-509e-4fbf-81c4-99045ba4fa76",
   "metadata": {},
   "outputs": [
    {
     "data": {
      "text/html": [
       "<table class=\"dataframe\">\n",
       "<caption>A data.frame: 6 × 14</caption>\n",
       "<thead>\n",
       "\t<tr><th></th><th scope=col>age</th><th scope=col>anaemia</th><th scope=col>creatinine_phosphokinase</th><th scope=col>diabetes</th><th scope=col>ejection_fraction</th><th scope=col>high_blood_pressure</th><th scope=col>platelets</th><th scope=col>serum_creatinine</th><th scope=col>serum_sodium</th><th scope=col>sex</th><th scope=col>smoking</th><th scope=col>time</th><th scope=col>DEATH_EVENT</th><th scope=col>risk</th></tr>\n",
       "\t<tr><th></th><th scope=col>&lt;dbl&gt;</th><th scope=col>&lt;int&gt;</th><th scope=col>&lt;int&gt;</th><th scope=col>&lt;int&gt;</th><th scope=col>&lt;int&gt;</th><th scope=col>&lt;int&gt;</th><th scope=col>&lt;dbl&gt;</th><th scope=col>&lt;dbl&gt;</th><th scope=col>&lt;int&gt;</th><th scope=col>&lt;int&gt;</th><th scope=col>&lt;int&gt;</th><th scope=col>&lt;int&gt;</th><th scope=col>&lt;int&gt;</th><th scope=col>&lt;chr&gt;</th></tr>\n",
       "</thead>\n",
       "<tbody>\n",
       "\t<tr><th scope=row>1</th><td>75</td><td>0</td><td> 582</td><td>0</td><td>20</td><td>1</td><td>265000</td><td>1.9</td><td>130</td><td>1</td><td>0</td><td>4</td><td>1</td><td>High</td></tr>\n",
       "\t<tr><th scope=row>2</th><td>55</td><td>0</td><td>7861</td><td>0</td><td>38</td><td>0</td><td>263358</td><td>1.1</td><td>136</td><td>1</td><td>0</td><td>6</td><td>1</td><td>Low </td></tr>\n",
       "\t<tr><th scope=row>3</th><td>65</td><td>0</td><td> 146</td><td>0</td><td>20</td><td>0</td><td>162000</td><td>1.3</td><td>129</td><td>1</td><td>1</td><td>7</td><td>1</td><td>High</td></tr>\n",
       "\t<tr><th scope=row>4</th><td>50</td><td>1</td><td> 111</td><td>0</td><td>20</td><td>0</td><td>210000</td><td>1.9</td><td>137</td><td>1</td><td>0</td><td>7</td><td>1</td><td>Low </td></tr>\n",
       "\t<tr><th scope=row>5</th><td>65</td><td>1</td><td> 160</td><td>1</td><td>20</td><td>0</td><td>327000</td><td>2.7</td><td>116</td><td>0</td><td>0</td><td>8</td><td>1</td><td>High</td></tr>\n",
       "\t<tr><th scope=row>6</th><td>90</td><td>1</td><td>  47</td><td>0</td><td>40</td><td>1</td><td>204000</td><td>2.1</td><td>132</td><td>1</td><td>1</td><td>8</td><td>1</td><td>High</td></tr>\n",
       "</tbody>\n",
       "</table>\n"
      ],
      "text/latex": [
       "A data.frame: 6 × 14\n",
       "\\begin{tabular}{r|llllllllllllll}\n",
       "  & age & anaemia & creatinine\\_phosphokinase & diabetes & ejection\\_fraction & high\\_blood\\_pressure & platelets & serum\\_creatinine & serum\\_sodium & sex & smoking & time & DEATH\\_EVENT & risk\\\\\n",
       "  & <dbl> & <int> & <int> & <int> & <int> & <int> & <dbl> & <dbl> & <int> & <int> & <int> & <int> & <int> & <chr>\\\\\n",
       "\\hline\n",
       "\t1 & 75 & 0 &  582 & 0 & 20 & 1 & 265000 & 1.9 & 130 & 1 & 0 & 4 & 1 & High\\\\\n",
       "\t2 & 55 & 0 & 7861 & 0 & 38 & 0 & 263358 & 1.1 & 136 & 1 & 0 & 6 & 1 & Low \\\\\n",
       "\t3 & 65 & 0 &  146 & 0 & 20 & 0 & 162000 & 1.3 & 129 & 1 & 1 & 7 & 1 & High\\\\\n",
       "\t4 & 50 & 1 &  111 & 0 & 20 & 0 & 210000 & 1.9 & 137 & 1 & 0 & 7 & 1 & Low \\\\\n",
       "\t5 & 65 & 1 &  160 & 1 & 20 & 0 & 327000 & 2.7 & 116 & 0 & 0 & 8 & 1 & High\\\\\n",
       "\t6 & 90 & 1 &   47 & 0 & 40 & 1 & 204000 & 2.1 & 132 & 1 & 1 & 8 & 1 & High\\\\\n",
       "\\end{tabular}\n"
      ],
      "text/markdown": [
       "\n",
       "A data.frame: 6 × 14\n",
       "\n",
       "| <!--/--> | age &lt;dbl&gt; | anaemia &lt;int&gt; | creatinine_phosphokinase &lt;int&gt; | diabetes &lt;int&gt; | ejection_fraction &lt;int&gt; | high_blood_pressure &lt;int&gt; | platelets &lt;dbl&gt; | serum_creatinine &lt;dbl&gt; | serum_sodium &lt;int&gt; | sex &lt;int&gt; | smoking &lt;int&gt; | time &lt;int&gt; | DEATH_EVENT &lt;int&gt; | risk &lt;chr&gt; |\n",
       "|---|---|---|---|---|---|---|---|---|---|---|---|---|---|---|\n",
       "| 1 | 75 | 0 |  582 | 0 | 20 | 1 | 265000 | 1.9 | 130 | 1 | 0 | 4 | 1 | High |\n",
       "| 2 | 55 | 0 | 7861 | 0 | 38 | 0 | 263358 | 1.1 | 136 | 1 | 0 | 6 | 1 | Low  |\n",
       "| 3 | 65 | 0 |  146 | 0 | 20 | 0 | 162000 | 1.3 | 129 | 1 | 1 | 7 | 1 | High |\n",
       "| 4 | 50 | 1 |  111 | 0 | 20 | 0 | 210000 | 1.9 | 137 | 1 | 0 | 7 | 1 | Low  |\n",
       "| 5 | 65 | 1 |  160 | 1 | 20 | 0 | 327000 | 2.7 | 116 | 0 | 0 | 8 | 1 | High |\n",
       "| 6 | 90 | 1 |   47 | 0 | 40 | 1 | 204000 | 2.1 | 132 | 1 | 1 | 8 | 1 | High |\n",
       "\n"
      ],
      "text/plain": [
       "  age anaemia creatinine_phosphokinase diabetes ejection_fraction\n",
       "1 75  0        582                     0        20               \n",
       "2 55  0       7861                     0        38               \n",
       "3 65  0        146                     0        20               \n",
       "4 50  1        111                     0        20               \n",
       "5 65  1        160                     1        20               \n",
       "6 90  1         47                     0        40               \n",
       "  high_blood_pressure platelets serum_creatinine serum_sodium sex smoking time\n",
       "1 1                   265000    1.9              130          1   0       4   \n",
       "2 0                   263358    1.1              136          1   0       6   \n",
       "3 0                   162000    1.3              129          1   1       7   \n",
       "4 0                   210000    1.9              137          1   0       7   \n",
       "5 0                   327000    2.7              116          0   0       8   \n",
       "6 1                   204000    2.1              132          1   1       8   \n",
       "  DEATH_EVENT risk\n",
       "1 1           High\n",
       "2 1           Low \n",
       "3 1           High\n",
       "4 1           Low \n",
       "5 1           High\n",
       "6 1           High"
      ]
     },
     "metadata": {},
     "output_type": "display_data"
    }
   ],
   "source": [
    "data_hw$risk <- ifelse(data_hw$age > 50 & data_hw$serum_creatinine > 1.2, 'High', 'Low')\n",
    "\n",
    "# Vypísanie prvých riadkov datasetu na kontrolu\n",
    "head(data_hw)"
   ]
  },
  {
   "cell_type": "markdown",
   "id": "bd48b605-4050-4860-8449-f9a4eb35e8fd",
   "metadata": {},
   "source": [
    "Vizualizujte vysoké riziko úmrtia pre jednotlivé vekové skupiny histogramom:\n",
    "\n",
    "- počet stĺpcov (atribút 'breaks') môže mať predvolenú hodnotu, nemusíte ho špecifikovať\n",
    "\n",
    "- funkcia hist - https://www.rdocumentation.org/packages/graphics/versions/3.6.2/topics/hist\n",
    "\n",
    "(hint: použite funkciu filter na záznamy, kde 'risk' == 'High', a v histograme ako dáta vložte hodnoty z premennej 'age')"
   ]
  },
  {
   "cell_type": "code",
   "execution_count": 41,
   "id": "13e02304-e867-43d4-a51e-92e2c9ae4dfe",
   "metadata": {},
   "outputs": [
    {
     "name": "stdout",
     "output_type": "stream",
     "text": [
      "[1] \"Vek s najväčším rizikom zlyhania srdca: 60\"\n",
      "[1] \"Počet prípadov zlyhania srdca v tejto vekovej kategórii: 18\"\n"
     ]
    },
    {
     "data": {
      "image/png": "[encoded data removed]",
      "text/plain": [
       "Plot with title \"Histogram vysokého rizika úmrtia\""
      ]
     },
     "metadata": {
      "image/png": {
       "height": 500,
       "width": 700
      }
     },
     "output_type": "display_data"
    }
   ],
   "source": [
    "# Vytvorenie tabuľky počtu prípadov podľa veku a stavu zlyhania srdca\n",
    "high_risk_data <- filter(data_hw, risk == 'High')\n",
    "\n",
    "# Vykreslenie histogramu veku pre záznamy s vysokým rizikom úmrtia\n",
    "hist(high_risk_data$age, main = 'Histogram vysokého rizika úmrtia', xlab = 'Vek', ylab = 'Počet prípadov')\n",
    "age_failure_table <- table(data_hw$age, data_hw$risk)\n",
    "\n",
    "# Nájdenie veku s najväčším počtom prípadov zlyhania srdca\n",
    "max_failure_age <- names(which.max(age_failure_table[, 'High']))\n",
    "\n",
    "# Počet prípadov zlyhania srdca v tejto vekovej kategórii\n",
    "count_max_failure <- age_failure_table[max_failure_age, 'High']\n",
    "\n",
    "# Vypísanie veku s najväčším rizikom zlyhania srdca a počtu prípadov\n",
    "print(paste(\"Vek s najväčším rizikom zlyhania srdca:\", max_failure_age))\n",
    "print(paste(\"Počet prípadov zlyhania srdca v tejto vekovej kategórii:\", count_max_failure))\n"
   ]
  },
  {
   "cell_type": "markdown",
   "id": "beb9312b-dd82-46bb-89b0-ccb6dd2b8106",
   "metadata": {},
   "source": [
    "**V akom veku je riziko zlyhania srdca najväčšie?**"
   ]
  },
  {
   "cell_type": "raw",
   "id": "f7fac42f-41e9-4243-ae91-8bbb5b3d8f27",
   "metadata": {},
   "source": [
    "60"
   ]
  },
  {
   "cell_type": "markdown",
   "id": "9ba90f86-6bdb-4f53-9c45-7284ff510535",
   "metadata": {},
   "source": [
    "**Koľko záznamov (približne) je v datasete v tejto vekovej kategórii?**"
   ]
  },
  {
   "cell_type": "raw",
   "id": "c71eec00-b410-42fa-89f5-788a2671be60",
   "metadata": {},
   "source": [
    "18"
   ]
  },
  {
   "cell_type": "markdown",
   "id": "f5c0ddad-7e6c-4726-b729-3cfb349ee0b8",
   "metadata": {},
   "source": [
    "### Úloha 5 (1b)\n",
    "\n",
    "Analyzujte koreláciu medzi všetkými atribútmi tohto datasetu (napr. vytvorením correlation plot)\n",
    "\n",
    "- korelácia sa dá analyzovať iba na numerických premenných, preto musíte dátový typ premennej zmeniť na kategorický a ten uložiť vo formáte 'integer' alebo 'numeric'.\n"
   ]
  },
  {
   "cell_type": "code",
   "execution_count": 44,
   "id": "c8322950-1964-43ac-a3f6-d4bedb3802ea",
   "metadata": {
    "scrolled": true
   },
   "outputs": [
    {
     "name": "stdout",
     "output_type": "stream",
     "text": [
      "[1] \"Atribúty s najväčšou zápornou koreláciou: smoking, sex\"\n"
     ]
    }
   ],
   "source": [
    "numeric_data_hw <- data_hw[, sapply(data_hw, is.numeric)]\n",
    "\n",
    "correlation_matrix <- cor(numeric_data_hw)\n",
    "\n",
    "position <- which(correlation_matrix == max(correlation_matrix[lower.tri(correlation_matrix)]), arr.ind = TRUE)\n",
    "\n",
    "attributes <- rownames(correlation_matrix)[position[1,1]]\n",
    "attributes <- c(attributes, colnames(correlation_matrix)[position[1,2]])\n",
    "\n",
    "print(paste(\"Atribúty s najväčšou zápornou koreláciou:\", paste(attributes, collapse = \", \")))\n"
   ]
  },
  {
   "cell_type": "markdown",
   "id": "7964b789-3e0c-4478-a270-028d98af3994",
   "metadata": {},
   "source": [
    "**Ktoré atribúty majú medzi sebou najväčšiu zápornú koreláciu?** (uveďte prvé dve dvojice)"
   ]
  },
  {
   "cell_type": "raw",
   "id": "5f1781b1-32f1-442e-91bf-82aefbae6dde",
   "metadata": {},
   "source": [
    "DEATH_EVENT, time"
   ]
  },
  {
   "cell_type": "markdown",
   "id": "45ccd281-4c3a-437b-9fea-a8433d6145ea",
   "metadata": {},
   "source": [
    "**Ktoré atribúty majú medzi sebou najväčšiu kladnú koreláciu?** (uveďte prvú dvojicu)"
   ]
  },
  {
   "cell_type": "raw",
   "id": "d6304b62-d65f-412e-bc2c-f57219a910d9",
   "metadata": {},
   "source": [
    "smoking, sex"
   ]
  },
  {
   "cell_type": "markdown",
   "id": "4afda479-3c32-4956-b59f-c53c450a42ba",
   "metadata": {},
   "source": [
    "----\n",
    "\n",
    "Viac informácií o zlyhaní srdca: https://www.nhlbi.nih.gov/health/heart-failure"
   ]
  }
 ],
 "metadata": {
  "kernelspec": {
   "display_name": "R",
   "language": "R",
   "name": "ir"
  },
  "language_info": {
   "codemirror_mode": "r",
   "file_extension": ".r",
   "mimetype": "text/x-r-source",
   "name": "R",
   "pygments_lexer": "r",
   "version": "4.3.3"
  }
 },
 "nbformat": 4,
 "nbformat_minor": 5
}
